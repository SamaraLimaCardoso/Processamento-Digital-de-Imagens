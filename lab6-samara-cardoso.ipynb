{
 "cells": [
  {
   "cell_type": "markdown",
   "id": "c324ed59",
   "metadata": {},
   "source": [
    "![banner-pdi](https://user-images.githubusercontent.com/58775072/141189378-b5df3287-e8c0-48a1-ad11-825ba317463b.png)"
   ]
  },
  {
   "cell_type": "markdown",
   "id": "e958ca6e",
   "metadata": {},
   "source": [
    "## Universidade Federal de Campina Grande (UFCG)\n",
    "## Centro de Engenharia Elétrica e Informática (CEEI) \n",
    "## Disciplina: Int. ao Processamento de Imagem Digital e Visão Computacional\n",
    "## Professora: Luciana Ribeiro Veloso\n",
    "## Aluno(a): Samara Lima Cardoso"
   ]
  },
  {
   "cell_type": "markdown",
   "id": "6188024d",
   "metadata": {},
   "source": [
    "## Observações\n",
    "***\n",
    "\n",
    "1. Os arquivos de laboratório devem ser salvos seguindo o seguinte padrão: `lab-x-nome-sobrenome.ipynb`.\n",
    "2. Não esqueça de colocar o seu nome no cabeçalho acima.\n",
    "3. Não altere a ordem das células e realize as implementações somente nos campos específicados.  \n",
    "4. Ao longo do laboratório será solicitado perguntas teóricas relativas aos assuntos das aulas da disciplina e implementações de código utilizando a linguagem de programação Python. \n",
    "5. As células de implementação com código serão indicadas pelos seguintes comentários: `# IMPLEMENTE O SEU CÓDIGO AQUI`.\n",
    "6. Para editar uma célula de texto, basta clicar duas vezes com o cursos do mouse para editar, e `Ctrl + Enter` para finalizar a edição. \n",
    "7. Para rodar as células com os códigos desenvolvidos, digite `Ctrl + Enter` ou clique em `Run` no menu do Jupyter.\n",
    "8. Dúvidas, problemas de execução de código ou dificuldades com a linguagem de programação Python devem ser feitas durante as aulas de laboratório, encaminhadas para o grupo de WhatsApp da turma ou fórum do PVAE da disciplina.\n",
    "9. Os laboratórios devem ser enviados nos campos especificados pelo PVAE. ATENTE-SE AOS PRAZOS DE ENTREGA!"
   ]
  },
  {
   "cell_type": "markdown",
   "id": "54e50ca2",
   "metadata": {},
   "source": [
    "# <span style='color:red'>Laboratório 6: Redes Neurais Artificiais</span>\n",
    "***"
   ]
  },
  {
   "cell_type": "markdown",
   "id": "8589bb56",
   "metadata": {},
   "source": [
    "### Importação dos Pacotes"
   ]
  },
  {
   "cell_type": "code",
   "execution_count": 41,
   "id": "cd48515c",
   "metadata": {},
   "outputs": [],
   "source": [
    "import os                                                 # operational system para manipulação de arquivos.\n",
    "import cv2                                                # openCV para manipulação de imagens.\n",
    "import numpy as np                                        # numpy para manipulação de matrizes e arrays.\n",
    "import matplotlib.pyplot as plt                           # pyplot para plotagem de gráficos e imagens.\n",
    "from sklearn.model_selection import train_test_split      # função para particionamento dos dados\n",
    "from tensorflow.keras.models import Sequential            # classe de modelos sequenciais para construir as redes neurais.\n",
    "from tensorflow.keras.layers import Dense, Input, Dropout # camada de neurônios densamente conectados.\n",
    "from tensorflow.keras.optimizers import SGD               # otimizador \"Descida do Gradiente com Momento\".\n",
    "from tensorflow.keras.datasets import boston_housing      # dataset utilizado nesse experimento."
   ]
  },
  {
   "cell_type": "markdown",
   "id": "023ed0c5",
   "metadata": {},
   "source": [
    "### Banco de Dados\n",
    "* Vamos utilizar um banco de dados do catálogo de datasets do Keras, que é disponibilizado como uma função pronta;\n",
    "\n",
    "* Cada instância do banco de dados corresponde a um conjunto de 13 valores referentes a características de subúrbios de Boston na década de 1970, a exemplo de taxa de crimes, imposto sobre propriedade, etc;\n",
    "\n",
    "* Esses valores serão utilizados para calcular o valor mediano das residências no respectivo subúrbio em um problema de regressão, de modo que iremos mapear um vetor de entrada com 13 valores em um vetor de saída com 1 único elemento;\n",
    "\n",
    "* O banco de dados contém 506 valores divididos em 404 instâncias de treino e 102 de teste;\n",
    "\n",
    "* Uma descrição mais detalhada dos valores de entrada pode ser vista em http://lib.stat.cmu.edu/datasets/boston, onde os valores são descritos na ordem que aparecem;"
   ]
  },
  {
   "cell_type": "markdown",
   "id": "d60b723a",
   "metadata": {},
   "source": [
    "### Organização do banco de dados\n",
    "\n",
    "* Comumente os dados utilizados no treinamento de modelos de inteligência artificial reservam a primeira dimensão para controlar a amostra e espalham o tipo de dado utilizado nas demais dimensões do tensor. \n",
    "\n",
    "\n",
    "* Nesse caso, os nossos dados são vetores de características unidimensionais (1D), de modo que são organizados em tensores bidimensionais (2D) com formato: **dados.shape = (amostras, características)**\n",
    "    * O i-ésimo exemplo pode ser acessado a partir de: **exemplo = dados[i]**\n",
    "    * A j-ésima característica dos exemplos pode ser acessada a partir de: **caracteristica = dados[:, j]**\n",
    "    * Porções do tensor podem ser acessadas utilizando fatiamento, por exemplo:\n",
    "        * primeiros_5_exemplos = dados[:5]\n",
    "        * caracteristicas_9a13 = dados[8:13]\n",
    "        \n",
    "\n",
    "* Lembrem-se que a contagem de índices em Python começa em 0 e só é inclusiva no primeiro elemento:\n",
    "    * **:5** produz os índices **0, 1, 2, 3, 4** \n",
    "    * **8:13** produz os índices **8, 9, 10, 11, 12** \n",
    "        "
   ]
  },
  {
   "cell_type": "markdown",
   "id": "b51653c3",
   "metadata": {},
   "source": [
    "* O banco de dados pode ser carregado utilizando:\n",
    "    * **(train_data, train_targets), (test_data, test_targets) = boston_housing.load_data()**\n",
    "    * train_data é um tensor com as entradas do conjunto de treino;\n",
    "    * test_data é um tensor com as entradas do conjunto de teste;\n",
    "    * train_targets é um tensor com os gabaritos do conjunto de treino;\n",
    "    * test_targets é um tensor com os gabaritos do conjunto de teste;"
   ]
  },
  {
   "cell_type": "markdown",
   "id": "d721c22e",
   "metadata": {},
   "source": [
    "## <span style='color:blue'>Questão 1: [Valor da Questão: 2.0][Taxa de acerto: x.x]</span>\n",
    "\n",
    "* (a) O código abaixo carrega o banco de dados, acesse alguns exemplos de treinamento e de teste e veja suas dimensões.\n",
    "    * Use índices entre **[0, 404]** para os dados de treino e entre **[0, 102]** para os de teste.\n",
    "\n",
    "* (b) Verifique as dimensões e as faixas de valores de cada característica nos vetores de entrada dos conjuntos de treino e de teste. A faixa de valores das características são semelhantes? E os dados de treino e de teste?**</span>\n",
    "    * Encontre os valores mínimo/máximo além da média **(np.mean)** e da variância **(np.var)** de cada uma das 13 características.\n",
    "    * Sugestão: leia sobre o parâmetro \"axis\" na documentação das funções **np.min**, **np.max** e **np.mean**.\n",
    "* (c) Verifique as dimensões e as faixas de valores dos gabaritos dos conjuntos de treino e de teste. Os valores encontrados são semelhantes?"
   ]
  },
  {
   "cell_type": "code",
   "execution_count": 42,
   "id": "0b8882dd",
   "metadata": {},
   "outputs": [],
   "source": [
    "(train_data, train_targets), (test_data, test_targets) = boston_housing.load_data()"
   ]
  },
  {
   "cell_type": "code",
   "execution_count": 43,
   "id": "29e3116d",
   "metadata": {},
   "outputs": [
    {
     "name": "stdout",
     "output_type": "stream",
     "text": [
      "Dimensões entrada treino:\n",
      "(404, 13)\n",
      "casa treino 0 \n",
      "[1.23247] [0.0] [8.14] [0.0] [0.538] [6.142] [91.7] [3.9769] [4.0] [307.0] [21.0] [396.9] [18.72] \n",
      "\n",
      "casa treino 1 \n",
      "[0.02177] [82.5] [2.03] [0.0] [0.415] [7.61] [15.7] [6.27] [2.0] [348.0] [14.7] [395.38] [3.11] \n",
      "\n",
      "[ 9.29 18.05  4.73  9.51 12.03 14.37 17.64 21.52  2.98  5.33]\n",
      "Dimensões entrada teste:\n",
      "(102, 13)\n",
      "[ 4.81 15.84 25.68 19.88  5.39  6.53 20.32  7.44  3.53  9.14]\n"
     ]
    }
   ],
   "source": [
    "# IMPLEMENTE SEU CÓDIGO AQUI --> QUESTÃO 1 - letra (a)\n",
    "\n",
    "print('Dimensões entrada treino:')\n",
    "print(train_data.shape)\n",
    "for i in range(2):\n",
    "    print('casa treino %d ' %(i))\n",
    "    for j in range(13):\n",
    "        print('[', end='')\n",
    "        print( train_data[i,j], end='')\n",
    "        print(']', end=' ')\n",
    "    print('\\n')\n",
    "\n",
    "print(train_data[50:60,12])\n",
    "\n",
    "print('Dimensões entrada teste:')\n",
    "print(test_data.shape)\n",
    "\n",
    "print(test_data[50:60,12])"
   ]
  },
  {
   "cell_type": "markdown",
   "id": "edf65e85",
   "metadata": {},
   "source": [
    "|**Características dos Dados de Entrada**|**Descrição**|\n",
    "|:-:|:-|\n",
    "|**CRIM**|     <span style='color:red'>per capita crime rate by town</span>|\n",
    "|**ZN**|       <span style='color:red'>proportion of residential land zoned for lots over 25,000 sq.ft.</span>|\n",
    "|**INDUS**|    <span style='color:red'>proportion of non-retail business acres per town</span>|\n",
    "|**CHAS**|     <span style='color:red'>Charles River dummy variable (= 1 if tract bounds river; 0 otherwise)</span>|\n",
    "|**NOX**|      <span style='color:red'>nitric oxides concentration (parts per 10 million)</span>|\n",
    "|**RM**|       <span style='color:red'>average number of rooms per dwelling</span>|\n",
    "|**AGE**|      <span style='color:red'>proportion of owner-occupied units built prior to 1940</span>|\n",
    "|**DIS**|      <span style='color:red'>weighted distances to five Boston employment centres</span>|\n",
    "|**RAD**|      <span style='color:red'>index of accessibility to radial highways</span>|\n",
    "|**TAX**|      <span style='color:red'>full-value property-tax rate per \\$10,000</span>|\n",
    "|**PTRATIO**|  <span style='color:red'>pupil-teacher ratio by town</span>|\n",
    "|**B**|        <span style='color:red'>$1000(B_k - 0.63)^2$ where Bk is the proportion of blacks by town</span>|\n",
    "|**LSTAT**|    <span style='color:red'>\\% lower status of the population</span>|"
   ]
  },
  {
   "cell_type": "markdown",
   "id": "576a04c7",
   "metadata": {},
   "source": [
    "|**Características dos Dados de Saída**|**Descrição**|\n",
    "|:-:|:-|\n",
    "|**MEDV**|     <span style='color:red'>Median value of owner-occupied homes in \\$1000's</span>|"
   ]
  },
  {
   "cell_type": "code",
   "execution_count": 44,
   "id": "62b6bb05",
   "metadata": {},
   "outputs": [
    {
     "name": "stdout",
     "output_type": "stream",
     "text": [
      "CONJUNTO TREINO\n",
      "minimo:\n",
      "[6.3200e-03 0.0000e+00 4.6000e-01 0.0000e+00 3.8500e-01 3.5610e+00\n",
      " 2.9000e+00 1.1296e+00 1.0000e+00 1.8800e+02 1.2600e+01 3.2000e-01\n",
      " 1.7300e+00]\n",
      "maximo:\n",
      "[ 88.9762 100.      27.74     1.       0.871    8.725  100.      10.7103\n",
      "  24.     711.      22.     396.9     37.97  ]\n",
      "media:\n",
      "[3.74511057e+00 1.14801980e+01 1.11044307e+01 6.18811881e-02\n",
      " 5.57355941e-01 6.26708168e+00 6.90106436e+01 3.74027079e+00\n",
      " 9.44059406e+00 4.05898515e+02 1.84759901e+01 3.54783168e+02\n",
      " 1.27408168e+01]\n",
      "variancia\n",
      "[8.51798073e+01 5.63505796e+02 4.62790747e+01 5.80519067e-02\n",
      " 1.37236180e-02 5.02551441e-01 7.78748377e+02 4.11156931e+00\n",
      " 7.54741937e+01 2.76119724e+04 4.82969580e+00 8.83498510e+03\n",
      " 5.24981521e+01]\n",
      "\n",
      "\n",
      "\n",
      "\n",
      "CONJUNTO TESTE\n",
      "minimo:\n",
      "[1.3110e-02 0.0000e+00 1.2200e+00 0.0000e+00 3.9200e-01 4.8800e+00\n",
      " 6.0000e+00 1.4655e+00 1.0000e+00 1.8700e+02 1.3000e+01 2.4650e+01\n",
      " 1.9200e+00]\n",
      "maximo:\n",
      "[ 25.0461  90.      27.74     1.       0.871    8.78   100.      12.1265\n",
      "  24.     711.      21.2    396.9     31.99  ]\n",
      "media:\n",
      "[3.09233578e+00 1.09019608e+01 1.12649020e+01 9.80392157e-02\n",
      " 5.44155882e-01 6.35415686e+00 6.68490196e+01 4.01198235e+00\n",
      " 9.98039216e+00 4.17500000e+02 1.83745098e+01 3.64163333e+02\n",
      " 1.23054902e+01]\n",
      "variancia\n",
      "[2.85870350e+01 4.60828624e+02 4.96931387e+01 8.84275279e-02\n",
      " 1.19845525e-02 4.47603152e-01 8.34765832e+02 5.60873775e+00\n",
      " 7.61956940e+01 3.11588775e+04 4.06758554e+00 6.20147374e+03\n",
      " 4.43888895e+01]\n"
     ]
    }
   ],
   "source": [
    "# IMPLEMENTE SEU CÓDIGO AQUI --> QUESTÃO 1 - letra (b)\n",
    "\n",
    "\n",
    "\n",
    "print('CONJUNTO TREINO')\n",
    "print('minimo:')\n",
    "print(train_data.min(axis=0), end='\\n')\n",
    "print('maximo:')\n",
    "print(train_data.max(axis=0), end='\\n')\n",
    "print('media:')\n",
    "print(train_data.mean(axis=0), end='\\n')\n",
    "print('variancia')\n",
    "print(train_data.var(axis=0), end='\\n')\n",
    "\n",
    "print('\\n\\n\\n\\nCONJUNTO TESTE')\n",
    "print('minimo:')\n",
    "print(test_data.min(axis=0), end='\\n')\n",
    "print('maximo:')\n",
    "print(test_data.max(axis=0), end='\\n')\n",
    "print('media:')\n",
    "print(test_data.mean(axis=0), end='\\n')\n",
    "print('variancia')\n",
    "print(test_data.var(axis=0), end='\\n')"
   ]
  },
  {
   "cell_type": "code",
   "execution_count": 45,
   "id": "5cffae1d",
   "metadata": {},
   "outputs": [
    {
     "name": "stdout",
     "output_type": "stream",
     "text": [
      "Dimensões gabarito treino:\n",
      "(404,)\n",
      "faixas de valores dos gabaritos treino\n",
      "[15.2 42.3 50.  21.1 17.7 18.5 11.3 15.6 15.6 14.4 12.1 17.9 23.1 19.9\n",
      " 15.7  8.8 50.  22.5 24.1 27.5 10.9 30.8 32.9 24.  18.5 13.3 22.9 34.7\n",
      " 16.6 17.5 22.3 16.1 14.9 23.1 34.9 25.  13.9 13.1 20.4 20.  15.2 24.7\n",
      " 22.2 16.7 12.7 15.6 18.4 21.  30.1 15.1 18.7  9.6 31.5 24.8 19.1 22.\n",
      " 14.5 11.  32.  29.4 20.3 24.4 14.6 19.5 14.1 14.3 15.6 10.5  6.3 19.3\n",
      " 19.3 13.4 36.4 17.8 13.5 16.5  8.3 14.3 16.  13.4 28.6 43.5 20.2 22.\n",
      " 23.  20.7 12.5 48.5 14.6 13.4 23.7 50.  21.7 39.8 38.7 22.2 34.9 22.5\n",
      " 31.1 28.7 46.  41.7 21.  26.6 15.  24.4 13.3 21.2 11.7 21.7 19.4 50.\n",
      " 22.8 19.7 24.7 36.2 14.2 18.9 18.3 20.6 24.6 18.2  8.7 44.  10.4 13.2\n",
      " 21.2 37.  30.7 22.9 20.  19.3 31.7 32.  23.1 18.8 10.9 50.  19.6  5.\n",
      " 14.4 19.8 13.8 19.6 23.9 24.5 25.  19.9 17.2 24.6 13.5 26.6 21.4 11.9\n",
      " 22.6 19.6  8.5 23.7 23.1 22.4 20.5 23.6 18.4 35.2 23.1 27.9 20.6 23.7\n",
      " 28.  13.6 27.1 23.6 20.6 18.2 21.7 17.1  8.4 25.3 13.8 22.2 18.4 20.7\n",
      " 31.6 30.5 20.3  8.8 19.2 19.4 23.1 23.  14.8 48.8 22.6 33.4 21.1 13.6\n",
      " 32.2 13.1 23.4 18.9 23.9 11.8 23.3 22.8 19.6 16.7 13.4 22.2 20.4 21.8\n",
      " 26.4 14.9 24.1 23.8 12.3 29.1 21.  19.5 23.3 23.8 17.8 11.5 21.7 19.9\n",
      " 25.  33.4 28.5 21.4 24.3 27.5 33.1 16.2 23.3 48.3 22.9 22.8 13.1 12.7\n",
      " 22.6 15.  15.3 10.5 24.  18.5 21.7 19.5 33.2 23.2  5.  19.1 12.7 22.3\n",
      " 10.2 13.9 16.3 17.  20.1 29.9 17.2 37.3 45.4 17.8 23.2 29.  22.  18.\n",
      " 17.4 34.6 20.1 25.  15.6 24.8 28.2 21.2 21.4 23.8 31.  26.2 17.4 37.9\n",
      " 17.5 20.   8.3 23.9  8.4 13.8  7.2 11.7 17.1 21.6 50.  16.1 20.4 20.6\n",
      " 21.4 20.6 36.5  8.5 24.8 10.8 21.9 17.3 18.9 36.2 14.9 18.2 33.3 21.8\n",
      " 19.7 31.6 24.8 19.4 22.8  7.5 44.8 16.8 18.7 50.  50.  19.5 20.1 50.\n",
      " 17.2 20.8 19.3 41.3 20.4 20.5 13.8 16.5 23.9 20.6 31.5 23.3 16.8 14.\n",
      " 33.8 36.1 12.8 18.3 18.7 19.1 29.  30.1 50.  50.  22.  11.9 37.6 50.\n",
      " 22.7 20.8 23.5 27.9 50.  19.3 23.9 22.6 15.2 21.7 19.2 43.8 20.3 33.2\n",
      " 19.9 22.5 32.7 22.  17.1 19.  15.  16.1 25.1 23.7 28.7 37.2 22.6 16.4\n",
      " 25.  29.8 22.1 17.4 18.1 30.3 17.5 24.7 12.6 26.5 28.7 13.3 10.4 24.4\n",
      " 23.  20.  17.8  7.  11.8 24.4 13.8 19.4 25.2 19.4 19.4 29.1]\n",
      "CONJUNTO TREINO\n",
      "minimo:\n",
      "5.0\n",
      "maximo:\n",
      "50.0\n",
      "media:\n",
      "22.395049504950492\n",
      "variancia\n",
      "84.62225272032155\n",
      "\n",
      "\n",
      "\n",
      "\n",
      "Dimensões gabarito teste:\n",
      "(102,)\n",
      "faixas de valores dos gabaritos teste\n",
      "[ 7.2 18.8 19.  27.  22.2 24.5 31.2 22.9 20.5 23.2 18.6 14.5 17.8 50.\n",
      " 20.8 24.3 24.2 19.8 19.1 22.7 12.  10.2 20.  18.5 20.9 23.  27.5 30.1\n",
      "  9.5 22.  21.2 14.1 33.1 23.4 20.1  7.4 15.4 23.8 20.1 24.5 33.  28.4\n",
      " 14.1 46.7 32.5 29.6 28.4 19.8 20.2 25.  35.4 20.3  9.7 14.5 34.9 26.6\n",
      "  7.2 50.  32.4 21.6 29.8 13.1 27.5 21.2 23.1 21.9 13.  23.2  8.1  5.6\n",
      " 21.7 29.6 19.6  7.  26.4 18.9 20.9 28.1 35.4 10.2 24.3 43.1 17.6 15.4\n",
      " 16.2 27.1 21.4 21.5 22.4 25.  16.6 18.6 22.  42.8 35.1 21.5 36.  21.9\n",
      " 24.1 50.  26.7 25. ]\n",
      "CONJUNTO TESTE\n",
      "minimo:\n",
      "5.6\n",
      "maximo:\n",
      "50.0\n",
      "media:\n",
      "23.07843137254902\n",
      "variancia\n",
      "83.24384851980008\n"
     ]
    }
   ],
   "source": [
    "# IMPLEMENTE SEU CÓDIGO AQUI -QUESTÃO 1 - letra (c)\n",
    "\n",
    "\n",
    "print('Dimensões gabarito treino:')\n",
    "print(train_targets.shape)\n",
    "print('faixas de valores dos gabaritos treino')\n",
    "print(train_targets)\n",
    "print('CONJUNTO TREINO')\n",
    "print('minimo:')\n",
    "print(train_targets.min(axis=0), end='\\n')\n",
    "print('maximo:')\n",
    "print(train_targets.max(axis=0), end='\\n')\n",
    "print('media:')\n",
    "print(train_targets.mean(axis=0), end='\\n')\n",
    "print('variancia')\n",
    "print(train_targets.var(axis=0), end='\\n')\n",
    "\n",
    "\n",
    "print('\\n\\n\\n\\nDimensões gabarito teste:')\n",
    "print(test_targets.shape) \n",
    "print('faixas de valores dos gabaritos teste')\n",
    "print(test_targets) \n",
    "print('CONJUNTO TESTE')\n",
    "print('minimo:')\n",
    "print(test_targets.min(axis=0), end='\\n')\n",
    "print('maximo:')\n",
    "print(test_targets.max(axis=0), end='\\n')\n",
    "print('media:')\n",
    "print(test_targets.mean(axis=0), end='\\n')\n",
    "print('variancia')\n",
    "print(test_targets.var(axis=0), end='\\n')\n",
    "\n"
   ]
  },
  {
   "cell_type": "markdown",
   "id": "867bb2f1",
   "metadata": {},
   "source": [
    "## <span style='color:green'>Respostas da Questão 1:</span>\n",
    "\n",
    "* (a) Foi realizado um for para a apresentação para deixar a vizualização melhor. Já analisaando os dados das colunas 50-60 e o atributo 13,LSTAT, de ambos banco de dados, podemos ver que no peuqueno intervalo pegado a variação entre os dados não é tão grande. \n",
    "* (b) Observando os dados mostrados , podemos ver que algumas características assumem diferentes faixas de valores.\n",
    "* (c) Os valores de saida do treino variam entr 5 - 50, tendo sua media = 22.4 e variancia 82,6. Já os valores de saida do teste variam entre 5.6 - 50, tendo sua media = 23 e sua variancia 83.2. Logo com os dados vistos podemos afirma que os valores encontrados não são iguais, mas são proximos. "
   ]
  },
  {
   "cell_type": "markdown",
   "id": "e96da0af",
   "metadata": {},
   "source": [
    "### Pre-processamento dos dados\n",
    "\n",
    "* Dados cujas características assumem diferentes faixas de valores muitas vezes são problemáticos para o aprendizado dos modelos e podem reduzir a velocidade de convergência ou até mesmo limitar as capacidades do modelo final.\n",
    "\n",
    "* Nesse sentido, uma prática comum é a normalização dos dados antes do treinamento, que geralmente é feito por característica em forma da subtração da média e divisão pelo desvio padrão, o que faz com que os dados resultantes tenham média 0 e variância 1.\n",
    "\n",
    "* Um ponto muito importante é que a normalização deve ser feita partir dos mesmos valores em todos os conjuntos, ou seja, os dados são normalizados segundo informações do conjunto de treino.\n",
    "\n",
    "* Na prática não temos como calcular a média e variância real, mas se os dados de treino são significativos os seus valores são suficientes."
   ]
  },
  {
   "cell_type": "code",
   "execution_count": 46,
   "id": "4052aa23",
   "metadata": {},
   "outputs": [],
   "source": [
    "# Calcula a média do conjunto de treino\n",
    "mean = train_data.mean(axis = 0)\n",
    "# Calcula o desvio padrão do conjunto de treino\n",
    "std = train_data.std(axis = 0)\n",
    "# Normaliza os dados de treino\n",
    "train_data -= mean\n",
    "train_data /= std\n",
    "# Normaliza os dados de teste\n",
    "test_data -= mean\n",
    "test_data /= std"
   ]
  },
  {
   "cell_type": "markdown",
   "id": "072889a2",
   "metadata": {},
   "source": [
    "## <span style='color:blue'>Questão 2: [Valor da Questão: 1.0][Taxa de acerto: x.x]</span>\n",
    "\n",
    "* Repita o item b da primeira questão para os dados normalizados. O que se observa quantos aos valores de média e variância para os dados de treino e teste? Comente a sua interpretação sobre as diferenças observadas."
   ]
  },
  {
   "cell_type": "code",
   "execution_count": 47,
   "id": "6b56e9d5",
   "metadata": {},
   "outputs": [
    {
     "name": "stdout",
     "output_type": "stream",
     "text": [
      "CONJUNTO TREINO\n",
      "minimo:\n",
      "[-0.40510053 -0.48361547 -1.56469648 -0.25683275 -1.47126853 -3.81725032\n",
      " -2.36904226 -1.28750316 -0.97156928 -1.31131055 -2.67375227 -3.77110135\n",
      " -1.51966384]\n",
      "maximo:\n",
      "[9.23484718 3.72899018 2.44537425 3.89358447 2.67733525 3.46718635\n",
      " 1.11048828 3.43740568 1.67588577 1.83609694 1.60353052 0.44807713\n",
      " 3.48201936]\n",
      "media:\n",
      "[-1.01541438e-16  1.09923072e-17  1.74337992e-15 -1.26686340e-16\n",
      " -5.25377321e-15  6.41414864e-15  2.98441140e-16  4.94653823e-16\n",
      "  1.12671149e-17 -1.98136337e-16  2.36686358e-14  5.95679996e-15\n",
      "  6.13920356e-16]\n",
      "variancia\n",
      "[1. 1. 1. 1. 1. 1. 1. 1. 1. 1. 1. 1. 1.]\n",
      "\n",
      "\n",
      "\n",
      "\n",
      "CONJUNTO TESTE\n",
      "minimo:\n",
      "[-0.40436483 -0.48361547 -1.45297897 -0.25683275 -1.41151498 -1.95664382\n",
      " -2.25795529 -1.12184753 -0.97156928 -1.31732854 -2.49174024 -3.5122567\n",
      " -1.49344089]\n",
      "maximo:\n",
      "[2.30797686 3.30772962 2.44537425 3.89358447 2.67733525 3.5447704\n",
      " 1.11048828 4.13583229 1.67588577 1.83609694 1.23950646 0.44807713\n",
      " 2.65668643]\n",
      "media:\n",
      "[-0.0707286  -0.02435885  0.02358875  0.1500709  -0.11267862  0.12282991\n",
      " -0.07746073  0.13399985  0.0621344   0.06981759 -0.04617659  0.09979472\n",
      " -0.06008184]\n",
      "variancia\n",
      "[0.33560812 0.81778861 1.07377123 1.52324933 0.87327937 0.89066136\n",
      " 1.07193268 1.36413552 1.00955956 1.12845533 0.84220326 0.70192238\n",
      " 0.84553242]\n"
     ]
    }
   ],
   "source": [
    "# IMPLEMENTE SEU CÓDIGO AQUI --> QUESTÃO 2\n",
    "\n",
    "print('CONJUNTO TREINO')\n",
    "print('minimo:')\n",
    "print(train_data.min(axis=0), end='\\n')\n",
    "print('maximo:')\n",
    "print(train_data.max(axis=0), end='\\n')\n",
    "print('media:')\n",
    "print(train_data.mean(axis=0), end='\\n')\n",
    "print('variancia')\n",
    "print(train_data.var(axis=0), end='\\n')\n",
    "\n",
    "print('\\n\\n\\n\\nCONJUNTO TESTE')\n",
    "print('minimo:')\n",
    "print(test_data.min(axis=0), end='\\n')\n",
    "print('maximo:')\n",
    "print(test_data.max(axis=0), end='\\n')\n",
    "print('media:')\n",
    "print(test_data.mean(axis=0), end='\\n')\n",
    "print('variancia')\n",
    "print(test_data.var(axis=0), end='\\n')"
   ]
  },
  {
   "cell_type": "markdown",
   "id": "61e56306",
   "metadata": {},
   "source": [
    "## <span style='color:green'>Resposta da Questão 2:</span>\n",
    "\n",
    "*  Ao fazer a normalizaação foi alterado os valores das colunas numéricas no conjunto de dados para uma escala comum, sem distorcer as diferenças nos intervalos de valores. Isto é, faz com que as carateristicas não sumem  diferentes faixas de valores. Logo ao observar observa aos valores de média e variância para os dados de treino e teste é possivel perceber que eles não estão tão discrepantes. Isso ocoreu pois agora os intervalos são definidos por quantos desvios padrões esse valor está longe da média."
   ]
  },
  {
   "cell_type": "markdown",
   "id": "d32a400e",
   "metadata": {},
   "source": [
    "Agora vamos criar uma partição de validação a partir do conjunto de treino para realizar uma validação cruzada. Vamos utilizar a função **train_test_split**, que separa dados e os seus respectivos gabaritos segundo uma fração especificada."
   ]
  },
  {
   "cell_type": "code",
   "execution_count": 48,
   "id": "072876d9",
   "metadata": {},
   "outputs": [
    {
     "name": "stdout",
     "output_type": "stream",
     "text": [
      "Treino: (302, 13) (302,)\n",
      "Validação: (102, 13) (102,)\n"
     ]
    }
   ],
   "source": [
    "# fração escolhida para separar o mesmo número de instâncias do conjunto de testes\n",
    "data_frac = test_data.shape[0] / train_data.shape[0]\n",
    "\n",
    "# criação do conjunto de validação\n",
    "train_data, val_data, train_targets, val_targets = train_test_split(train_data,             # dados de treino\n",
    "                                                                    train_targets,          # gabaritos de treino\n",
    "                                                                    test_size = data_frac,  # proporção de dados p/ validação\n",
    "                                                                    random_state = 42)      # semente de geração\n",
    "\n",
    "print(\"Treino:\", train_data.shape, train_targets.shape)\n",
    "print(\"Validação:\", val_data.shape, val_targets.shape)"
   ]
  },
  {
   "cell_type": "markdown",
   "id": "a5d99618",
   "metadata": {},
   "source": [
    "### Construindo o modelo\n",
    "\n",
    "Para construir o modelo usaremos a classe **Sequential**, que possibilita a construção de modelos sequenciais de forma bastante simples.\n",
    "* A construção do modelo é feita a partir do seu instanciamento como objeto da classe seguido de chamadas à função **add()** para adicionar camadas.\n",
    "* Como estamos construindo apenas Redes Neurais Artificiais por enquanto, vamos utilizar apenas as camadas **Dense** e **Input**.\n",
    "    * A camada Input cria a entrada da rede com **Input(shape = None )**\n",
    "        * shape corresponde ao formato do tensor de entrada, no nosso caso será o número de características do nosso banco de dados (13);\n",
    "    * A camada Dense pode ser chamada com **Dense(n_unidades, activation = 'linear' )**\n",
    "        * n_unidades corresponde ao número de neurônios da camada;\n",
    "        * activation corresponde à função de ativação utilizada na camada;\n",
    "* Algumas funções de ativação disponíveis são:\n",
    "    * \"linear\"\n",
    "    * \"relu\"\n",
    "    * \"sigmoid\"\n",
    "    * \"softmax\"\n",
    "    * \"tanh\"\n",
    "\n",
    "\n",
    "* Mais informações sobre a camada dense podem ser vistas em **https://keras.io/api/layers/core_layers/dense/**\n",
    "* Mais informações sobre as ativações disponíveis podem ser vistas em **https://keras.io/api/layers/activations/**"
   ]
  },
  {
   "cell_type": "markdown",
   "id": "00974f4a",
   "metadata": {},
   "source": [
    "## <span style='color:blue'>Questão 3: [Valor da Questão: 2.0][Taxa de acerto: x.x]</span>\n",
    "\n",
    "* (a) A função abaixo constroi um modelo de rede neural e utiliza a função summary() para apresentar um resumo das informações da rede neural produzida. Comente o que faz cada linha do código.\n",
    "    * (opcional) Modifique parâmetros como o número de unidades de cada camada e/ou o formato do tensor de entrada e/ou o número de saídas.\n",
    "* (b) Explique como o número de parâmetros de cada camada é calculado.\n",
    "* (c) Nesse caso utilizamos uma saída com ativação linear. Qual seria a desvantagem de utilizar esse tipo de ativação nas demais camadas?"
   ]
  },
  {
   "cell_type": "code",
   "execution_count": 49,
   "id": "8320b833",
   "metadata": {},
   "outputs": [
    {
     "name": "stdout",
     "output_type": "stream",
     "text": [
      "Model: \"sequential_11\"\n",
      "_________________________________________________________________\n",
      " Layer (type)                Output Shape              Param #   \n",
      "=================================================================\n",
      " dense_43 (Dense)            (None, 64)                896       \n",
      "                                                                 \n",
      " dense_44 (Dense)            (None, 64)                4160      \n",
      "                                                                 \n",
      " dense_45 (Dense)            (None, 1)                 65        \n",
      "                                                                 \n",
      "=================================================================\n",
      "Total params: 5,121\n",
      "Trainable params: 5,121\n",
      "Non-trainable params: 0\n",
      "_________________________________________________________________\n"
     ]
    }
   ],
   "source": [
    "# COMENTE AS LINHAS DE CÓDIGO AQUI --> QUESTÃO 3 -letra (a)\n",
    "def build_model( n_inputs, n_outputs ): # cria um função para construir um modelo\n",
    "    '''construção do modelo de rede neural convolucional'''\n",
    "    \n",
    "    rede = Sequential() # iguala a rede a classe Sequential para a construção de modelos sequenciais\n",
    "    rede.add( Dense(units = 64, activation = \"relu\", input_shape = (n_inputs,))) # cria uma camada densa com 64 neuronios e com a função de aivação relu e com o vetor de entrada input\n",
    "    rede.add(Dense(units = 64, activation = \"relu\")) # cria uma camada densa com 64 neuronios e com a função de ativação relu\n",
    "    rede.add(Dense(units = n_outputs ))\n",
    "    return rede #retorna o modelo criado de acordo com os parametros dados\n",
    "\n",
    "model = build_model(13, 1) #cria o modelo\n",
    "model.summary() #apresenta uma tabela com um resumo do modelo"
   ]
  },
  {
   "cell_type": "markdown",
   "id": "4981fdfe",
   "metadata": {},
   "source": [
    "## <span style='color:green'>Respostas da Questão 3:</span>\n",
    "\n",
    "* (b) O calculo da número de parâmetros de cada camada é feito da seguinte maneira: dados_saida*(dados_entrada+1) ex: parametro dense_4 = 64*(64+1)= 4160 paraametros\n",
    "* (c) por ser uma ativação linear, o que acontece são trasfromações lineares, ou seja ela aplica  um fator multiplicador. Sua desvantagem é que por aplicar um fato multiplicador, sua derivada vai ser uma constante e não vai depender do valor de entrada.Isso torna o gradiente constante para cada etapa de backpropagation de modo que a etapa de descida do gradiente não tende a convergir para produzir um erro estável próximo a zero. Logo se as demais camadas tiverem uma ativação linear a saida da rede será apenas uma transformção linear da entrada."
   ]
  },
  {
   "cell_type": "markdown",
   "id": "c777b774",
   "metadata": {},
   "source": [
    "Após a construção do modelo ele deve ser compilado antes que os parâmetros sejam treinados. Isso é feito utilizando a função **compile**:\n",
    "\n",
    "* **model.compile( optimizer = opt, loss = fperdas, metrics = [] )** \n",
    "    * O optimizer é o algoritmo otimizador utilizado no lugar da descida do gradiente, o Keras oferece diversas opções;\n",
    "        * Para treinar a partir da descida do gradiente utilizaremos o SGD (descida do gradiente com momento), mas setaremos esse parâmetro para 0.\n",
    "        * **opt = SGD( learning_rate = taxa_de_aprendizagem, momentum = 0 )**\n",
    "    * A função de perdas pode ser definida a partir do parâmetro loss, como este é um problema de regressão utilizaremos o erro médio quadrático: \n",
    "        * **loss = \"mse\"**\n",
    "    * Podemos passar uma lista de métricas a serem computadas durante o treinamento, nesse caso utilizaremos o erro médio absoluto:\n",
    "        * **metrics = [\"mae\"]**\n",
    "        * Note que estamos passando uma lista com uma única métrica, mas outras poderiam ser adicionadas à lista.\n",
    "         \n",
    "         \n",
    "\n",
    "* Algoritmos otimizadores populares são o Adam (**https://keras.io/api/optimizers/adam/**) e o RMSprop(**https://keras.io/api/optimizers/rmsprop/**)\n",
    "* Mais informações sobre os otimizadores disponíveis podem ser vistas em **https://keras.io/api/optimizers/**\n",
    "* Mais informações sobre as funções de perdas disponíveis podem ser vistas em **https://keras.io/api/losses/**\n",
    "* Mais informações sobre as métricas disponíveis podem ser vistas em **https://keras.io/api/metrics/**\n",
    "\n"
   ]
  },
  {
   "cell_type": "code",
   "execution_count": 50,
   "id": "367c4384",
   "metadata": {},
   "outputs": [
    {
     "name": "stdout",
     "output_type": "stream",
     "text": [
      "Model: \"sequential_12\"\n",
      "_________________________________________________________________\n",
      " Layer (type)                Output Shape              Param #   \n",
      "=================================================================\n",
      " dense_46 (Dense)            (None, 64)                896       \n",
      "                                                                 \n",
      " dense_47 (Dense)            (None, 64)                4160      \n",
      "                                                                 \n",
      " dense_48 (Dense)            (None, 1)                 65        \n",
      "                                                                 \n",
      "=================================================================\n",
      "Total params: 5,121\n",
      "Trainable params: 5,121\n",
      "Non-trainable params: 0\n",
      "_________________________________________________________________\n"
     ]
    }
   ],
   "source": [
    "model = build_model(13, 1)\n",
    "model.compile( optimizer = SGD(learning_rate = 0.001, momentum = 0.0), loss = \"mse\", metrics = [\"mae\"] )\n",
    "model.summary()"
   ]
  },
  {
   "cell_type": "markdown",
   "id": "002d8f73",
   "metadata": {},
   "source": [
    "### Treinando o modelo\n",
    "\n",
    "O treinamento é realizado a partir da função **fit**, que recebe dados de treino e de validação além de hiperparâmetros como o número de épocas e o tamanho dos lotes de dados (batchsize).\n",
    "\n",
    "* **hist = model.fit(x = None, y = None, epochs = 1, batchsize = None, validation_data = None, verbose = \"auto\")**\n",
    "    * x corresponde aos dados de treino;\n",
    "    * y corresponde aos gabaritos de treino;\n",
    "    * epochs corresponde ao número de épocas de treinamento;\n",
    "    * batchsize corresponde ao tamanho dos lotes entregues à rede de cada vez;\n",
    "    * validation_data corresponde a uma tupla ( val_data, val_targets ) com os dados de validação;\n",
    "    * verbose indica como a função deve reportar os resultados:\n",
    "        * 0: modo silencioso, nenhum retorno em formato de texto;\n",
    "        * 1: retorno a cada época e barra de progresso;\n",
    "        * 2: retorno a cada época sem barra de progresso;\n",
    "    * hist é um dicionário de retorno com os valores de loss e das métricas computadas para treino e validação;"
   ]
  },
  {
   "cell_type": "code",
   "execution_count": 51,
   "id": "dfca33af",
   "metadata": {
    "scrolled": true
   },
   "outputs": [
    {
     "name": "stdout",
     "output_type": "stream",
     "text": [
      "Epoch 1/100\n",
      "302/302 [==============================] - 2s 4ms/step - loss: 78.6912 - mae: 5.9697 - val_loss: 27.4482 - val_mae: 3.8657\n",
      "Epoch 2/100\n",
      "302/302 [==============================] - 1s 3ms/step - loss: 42.4712 - mae: 4.2385 - val_loss: 19.3610 - val_mae: 3.3603\n",
      "Epoch 3/100\n",
      "302/302 [==============================] - 1s 3ms/step - loss: 29.4871 - mae: 3.8907 - val_loss: 17.9482 - val_mae: 3.4496\n",
      "Epoch 4/100\n",
      "302/302 [==============================] - 1s 3ms/step - loss: 23.8323 - mae: 3.5486 - val_loss: 11.5199 - val_mae: 2.6948\n",
      "Epoch 5/100\n",
      "302/302 [==============================] - 1s 3ms/step - loss: 20.3403 - mae: 3.2530 - val_loss: 11.1842 - val_mae: 2.5645\n",
      "Epoch 6/100\n",
      "302/302 [==============================] - 1s 3ms/step - loss: 18.1645 - mae: 3.0207 - val_loss: 10.2956 - val_mae: 2.3962\n",
      "Epoch 7/100\n",
      "302/302 [==============================] - 1s 3ms/step - loss: 18.6267 - mae: 3.0014 - val_loss: 13.2003 - val_mae: 2.7543\n",
      "Epoch 8/100\n",
      "302/302 [==============================] - 1s 3ms/step - loss: 16.6177 - mae: 2.6924 - val_loss: 45.7275 - val_mae: 5.2244\n",
      "Epoch 9/100\n",
      "302/302 [==============================] - 1s 4ms/step - loss: 24.0601 - mae: 3.3946 - val_loss: 12.8818 - val_mae: 2.6907\n",
      "Epoch 10/100\n",
      "302/302 [==============================] - 1s 3ms/step - loss: 22.6331 - mae: 3.2564 - val_loss: 18.1942 - val_mae: 2.9904\n",
      "Epoch 11/100\n",
      "302/302 [==============================] - 1s 4ms/step - loss: 20.8582 - mae: 3.0470 - val_loss: 21.7097 - val_mae: 3.3189\n",
      "Epoch 12/100\n",
      "302/302 [==============================] - 1s 3ms/step - loss: 18.5117 - mae: 2.9539 - val_loss: 11.6834 - val_mae: 2.5323\n",
      "Epoch 13/100\n",
      "302/302 [==============================] - 1s 4ms/step - loss: 13.5965 - mae: 2.7049 - val_loss: 52.7720 - val_mae: 4.8501\n",
      "Epoch 14/100\n",
      "302/302 [==============================] - 1s 3ms/step - loss: 16.7452 - mae: 2.8454 - val_loss: 14.5379 - val_mae: 2.6394\n",
      "Epoch 15/100\n",
      "302/302 [==============================] - 1s 3ms/step - loss: 13.2790 - mae: 2.6743 - val_loss: 20.5080 - val_mae: 3.6146\n",
      "Epoch 16/100\n",
      "302/302 [==============================] - 1s 3ms/step - loss: 12.3450 - mae: 2.4685 - val_loss: 10.0161 - val_mae: 2.2931\n",
      "Epoch 17/100\n",
      "302/302 [==============================] - 1s 3ms/step - loss: 11.4230 - mae: 2.4708 - val_loss: 12.6166 - val_mae: 2.6338\n",
      "Epoch 18/100\n",
      "302/302 [==============================] - 1s 3ms/step - loss: 11.3528 - mae: 2.3952 - val_loss: 13.7031 - val_mae: 2.5453\n",
      "Epoch 19/100\n",
      "302/302 [==============================] - 1s 3ms/step - loss: 13.2398 - mae: 2.4405 - val_loss: 9.8067 - val_mae: 2.1930\n",
      "Epoch 20/100\n",
      "302/302 [==============================] - 1s 4ms/step - loss: 17.0987 - mae: 2.7667 - val_loss: 11.8050 - val_mae: 2.5806\n",
      "Epoch 21/100\n",
      "302/302 [==============================] - 1s 4ms/step - loss: 17.0620 - mae: 2.7392 - val_loss: 12.5615 - val_mae: 2.4480\n",
      "Epoch 22/100\n",
      "302/302 [==============================] - 1s 4ms/step - loss: 11.4419 - mae: 2.3906 - val_loss: 12.7087 - val_mae: 2.5953\n",
      "Epoch 23/100\n",
      "302/302 [==============================] - 1s 4ms/step - loss: 11.7290 - mae: 2.4310 - val_loss: 13.8505 - val_mae: 2.4134\n",
      "Epoch 24/100\n",
      "302/302 [==============================] - 1s 4ms/step - loss: 10.9084 - mae: 2.4462 - val_loss: 10.4891 - val_mae: 2.4215\n",
      "Epoch 25/100\n",
      "302/302 [==============================] - 1s 3ms/step - loss: 10.1465 - mae: 2.2066 - val_loss: 25.3683 - val_mae: 4.0772\n",
      "Epoch 26/100\n",
      "302/302 [==============================] - 1s 3ms/step - loss: 10.3549 - mae: 2.2516 - val_loss: 47.6120 - val_mae: 4.5356\n",
      "Epoch 27/100\n",
      "302/302 [==============================] - 1s 3ms/step - loss: 11.8105 - mae: 2.3733 - val_loss: 17.5681 - val_mae: 2.8867\n",
      "Epoch 28/100\n",
      "302/302 [==============================] - 1s 3ms/step - loss: 10.6888 - mae: 2.2663 - val_loss: 37.9966 - val_mae: 4.5022\n",
      "Epoch 29/100\n",
      "302/302 [==============================] - 1s 4ms/step - loss: 13.0338 - mae: 2.3211 - val_loss: 19.4914 - val_mae: 2.9426\n",
      "Epoch 30/100\n",
      "302/302 [==============================] - 1s 4ms/step - loss: 11.7286 - mae: 2.3260 - val_loss: 13.2189 - val_mae: 2.5605\n",
      "Epoch 31/100\n",
      "302/302 [==============================] - 1s 4ms/step - loss: 10.3908 - mae: 2.2902 - val_loss: 10.3337 - val_mae: 2.4254\n",
      "Epoch 32/100\n",
      "302/302 [==============================] - 1s 5ms/step - loss: 9.5173 - mae: 2.1878 - val_loss: 11.7852 - val_mae: 2.3278\n",
      "Epoch 33/100\n",
      "302/302 [==============================] - 1s 5ms/step - loss: 10.3591 - mae: 2.2963 - val_loss: 14.5079 - val_mae: 2.6482\n",
      "Epoch 34/100\n",
      "302/302 [==============================] - 1s 5ms/step - loss: 6.4680 - mae: 1.9119 - val_loss: 9.8826 - val_mae: 2.3544\n",
      "Epoch 35/100\n",
      "302/302 [==============================] - 1s 5ms/step - loss: 9.1196 - mae: 2.1365 - val_loss: 10.2580 - val_mae: 2.2994\n",
      "Epoch 36/100\n",
      "302/302 [==============================] - 1s 4ms/step - loss: 8.1136 - mae: 2.0056 - val_loss: 14.5009 - val_mae: 2.5897\n",
      "Epoch 37/100\n",
      "302/302 [==============================] - 1s 4ms/step - loss: 7.8636 - mae: 1.9561 - val_loss: 14.2220 - val_mae: 2.7328\n",
      "Epoch 38/100\n",
      "302/302 [==============================] - 1s 4ms/step - loss: 7.8087 - mae: 1.9765 - val_loss: 10.6604 - val_mae: 2.1504\n",
      "Epoch 39/100\n",
      "302/302 [==============================] - 1s 4ms/step - loss: 9.1834 - mae: 2.0938 - val_loss: 17.8546 - val_mae: 2.7402\n",
      "Epoch 40/100\n",
      "302/302 [==============================] - 1s 5ms/step - loss: 8.0765 - mae: 1.9976 - val_loss: 13.7374 - val_mae: 2.7162\n",
      "Epoch 41/100\n",
      "302/302 [==============================] - 1s 4ms/step - loss: 9.3187 - mae: 2.0348 - val_loss: 16.7549 - val_mae: 2.7187\n",
      "Epoch 42/100\n",
      "302/302 [==============================] - 1s 4ms/step - loss: 8.1473 - mae: 2.0617 - val_loss: 33.7983 - val_mae: 3.7905\n",
      "Epoch 43/100\n",
      "302/302 [==============================] - 1s 4ms/step - loss: 13.6960 - mae: 2.5805 - val_loss: 11.2940 - val_mae: 2.3580\n",
      "Epoch 44/100\n",
      "302/302 [==============================] - 1s 4ms/step - loss: 6.5209 - mae: 1.8843 - val_loss: 14.5645 - val_mae: 2.4459\n",
      "Epoch 45/100\n",
      "302/302 [==============================] - 1s 4ms/step - loss: 7.5436 - mae: 1.9827 - val_loss: 15.1311 - val_mae: 2.5315\n",
      "Epoch 46/100\n",
      "302/302 [==============================] - 1s 4ms/step - loss: 6.1157 - mae: 1.8335 - val_loss: 20.2408 - val_mae: 2.7314\n",
      "Epoch 47/100\n",
      "302/302 [==============================] - 1s 4ms/step - loss: 9.3250 - mae: 2.1605 - val_loss: 16.3423 - val_mae: 2.9409\n",
      "Epoch 48/100\n",
      "302/302 [==============================] - 1s 4ms/step - loss: 7.9088 - mae: 1.9814 - val_loss: 21.2913 - val_mae: 3.0466\n",
      "Epoch 49/100\n",
      "302/302 [==============================] - 1s 4ms/step - loss: 8.1520 - mae: 2.0473 - val_loss: 10.5537 - val_mae: 2.2930\n",
      "Epoch 50/100\n",
      "302/302 [==============================] - 1s 4ms/step - loss: 6.6948 - mae: 1.9247 - val_loss: 12.2303 - val_mae: 2.4519\n",
      "Epoch 51/100\n",
      "302/302 [==============================] - 1s 5ms/step - loss: 5.7776 - mae: 1.7378 - val_loss: 16.2033 - val_mae: 2.5591\n",
      "Epoch 52/100\n",
      "302/302 [==============================] - 1s 4ms/step - loss: 5.8511 - mae: 1.7456 - val_loss: 13.7279 - val_mae: 2.5079\n",
      "Epoch 53/100\n",
      "302/302 [==============================] - 1s 4ms/step - loss: 7.2878 - mae: 1.9088 - val_loss: 13.6608 - val_mae: 2.4106\n",
      "Epoch 54/100\n",
      "302/302 [==============================] - 1s 4ms/step - loss: 8.1985 - mae: 1.9098 - val_loss: 13.4137 - val_mae: 2.5488\n",
      "Epoch 55/100\n",
      "302/302 [==============================] - 1s 5ms/step - loss: 7.1322 - mae: 1.8175 - val_loss: 10.0828 - val_mae: 2.1913\n",
      "Epoch 56/100\n",
      "302/302 [==============================] - 1s 4ms/step - loss: 6.8005 - mae: 1.8815 - val_loss: 10.5813 - val_mae: 2.2674\n",
      "Epoch 57/100\n",
      "302/302 [==============================] - 1s 4ms/step - loss: 4.5494 - mae: 1.6209 - val_loss: 12.8329 - val_mae: 2.3943\n",
      "Epoch 58/100\n",
      "302/302 [==============================] - 1s 4ms/step - loss: 5.2338 - mae: 1.6520 - val_loss: 11.6223 - val_mae: 2.4449\n",
      "Epoch 59/100\n",
      "302/302 [==============================] - 1s 4ms/step - loss: 6.8291 - mae: 1.8441 - val_loss: 10.6366 - val_mae: 2.2238\n",
      "Epoch 60/100\n",
      "302/302 [==============================] - 1s 4ms/step - loss: 6.6480 - mae: 1.7774 - val_loss: 9.7451 - val_mae: 2.1865\n",
      "Epoch 61/100\n"
     ]
    },
    {
     "name": "stdout",
     "output_type": "stream",
     "text": [
      "302/302 [==============================] - 1s 3ms/step - loss: 5.3944 - mae: 1.7120 - val_loss: 12.2696 - val_mae: 2.7092\n",
      "Epoch 62/100\n",
      "302/302 [==============================] - 1s 3ms/step - loss: 5.0726 - mae: 1.6998 - val_loss: 9.6999 - val_mae: 2.1623\n",
      "Epoch 63/100\n",
      "302/302 [==============================] - 1s 4ms/step - loss: 4.5421 - mae: 1.5103 - val_loss: 8.1827 - val_mae: 2.1350loss: 4.8309 - mae: 1\n",
      "Epoch 64/100\n",
      "302/302 [==============================] - 1s 5ms/step - loss: 5.6599 - mae: 1.6798 - val_loss: 13.4203 - val_mae: 2.3535\n",
      "Epoch 65/100\n",
      "302/302 [==============================] - 1s 4ms/step - loss: 6.5228 - mae: 1.7718 - val_loss: 15.6153 - val_mae: 2.3942\n",
      "Epoch 66/100\n",
      "302/302 [==============================] - 1s 4ms/step - loss: 4.8108 - mae: 1.6456 - val_loss: 10.5124 - val_mae: 2.2706\n",
      "Epoch 67/100\n",
      "302/302 [==============================] - 1s 3ms/step - loss: 4.3400 - mae: 1.5176 - val_loss: 13.3723 - val_mae: 2.3910\n",
      "Epoch 68/100\n",
      "302/302 [==============================] - 1s 3ms/step - loss: 7.9816 - mae: 1.9029 - val_loss: 17.6696 - val_mae: 2.8711\n",
      "Epoch 69/100\n",
      "302/302 [==============================] - 1s 3ms/step - loss: 5.0011 - mae: 1.6142 - val_loss: 10.2995 - val_mae: 2.1260\n",
      "Epoch 70/100\n",
      "302/302 [==============================] - 1s 3ms/step - loss: 5.5969 - mae: 1.6437 - val_loss: 8.9217 - val_mae: 2.1093\n",
      "Epoch 71/100\n",
      "302/302 [==============================] - 1s 3ms/step - loss: 5.7584 - mae: 1.6889 - val_loss: 12.1243 - val_mae: 2.4028\n",
      "Epoch 72/100\n",
      "302/302 [==============================] - 1s 4ms/step - loss: 4.7596 - mae: 1.5847 - val_loss: 8.3467 - val_mae: 2.0537\n",
      "Epoch 73/100\n",
      "302/302 [==============================] - 1s 3ms/step - loss: 3.5510 - mae: 1.4442 - val_loss: 8.1453 - val_mae: 2.0412\n",
      "Epoch 74/100\n",
      "302/302 [==============================] - 1s 3ms/step - loss: 4.3958 - mae: 1.5258 - val_loss: 10.2725 - val_mae: 2.4511\n",
      "Epoch 75/100\n",
      "302/302 [==============================] - 1s 3ms/step - loss: 5.2706 - mae: 1.6574 - val_loss: 9.6245 - val_mae: 2.1545\n",
      "Epoch 76/100\n",
      "302/302 [==============================] - 1s 3ms/step - loss: 6.3754 - mae: 1.7272 - val_loss: 9.7436 - val_mae: 2.2165\n",
      "Epoch 77/100\n",
      "302/302 [==============================] - 1s 3ms/step - loss: 4.2175 - mae: 1.5115 - val_loss: 8.2221 - val_mae: 1.9894\n",
      "Epoch 78/100\n",
      "302/302 [==============================] - 1s 3ms/step - loss: 3.6368 - mae: 1.4330 - val_loss: 8.8258 - val_mae: 2.0804\n",
      "Epoch 79/100\n",
      "302/302 [==============================] - 1s 3ms/step - loss: 4.0353 - mae: 1.4997 - val_loss: 8.0097 - val_mae: 2.1381\n",
      "Epoch 80/100\n",
      "302/302 [==============================] - 1s 3ms/step - loss: 5.2008 - mae: 1.5632 - val_loss: 12.9183 - val_mae: 2.5101\n",
      "Epoch 81/100\n",
      "302/302 [==============================] - 1s 3ms/step - loss: 9.2556 - mae: 2.0440 - val_loss: 17.0731 - val_mae: 2.7146\n",
      "Epoch 82/100\n",
      "302/302 [==============================] - 1s 3ms/step - loss: 6.0743 - mae: 1.7057 - val_loss: 10.3285 - val_mae: 2.2121\n",
      "Epoch 83/100\n",
      "302/302 [==============================] - 1s 3ms/step - loss: 3.2293 - mae: 1.3730 - val_loss: 9.5748 - val_mae: 2.1563\n",
      "Epoch 84/100\n",
      "302/302 [==============================] - 1s 3ms/step - loss: 5.1042 - mae: 1.4937 - val_loss: 12.3850 - val_mae: 2.4156\n",
      "Epoch 85/100\n",
      "302/302 [==============================] - 1s 3ms/step - loss: 3.2808 - mae: 1.3249 - val_loss: 8.7872 - val_mae: 2.1472\n",
      "Epoch 86/100\n",
      "302/302 [==============================] - 1s 3ms/step - loss: 3.2506 - mae: 1.3376 - val_loss: 8.3313 - val_mae: 2.0605\n",
      "Epoch 87/100\n",
      "302/302 [==============================] - 1s 3ms/step - loss: 2.7642 - mae: 1.2403 - val_loss: 9.6046 - val_mae: 2.1496\n",
      "Epoch 88/100\n",
      "302/302 [==============================] - 1s 3ms/step - loss: 2.9184 - mae: 1.2561 - val_loss: 8.3801 - val_mae: 2.0517\n",
      "Epoch 89/100\n",
      "302/302 [==============================] - 1s 3ms/step - loss: 2.8493 - mae: 1.3025 - val_loss: 11.1108 - val_mae: 2.2813\n",
      "Epoch 90/100\n",
      "302/302 [==============================] - 1s 3ms/step - loss: 8.2559 - mae: 1.7398 - val_loss: 10.1558 - val_mae: 2.1386\n",
      "Epoch 91/100\n",
      "302/302 [==============================] - 1s 3ms/step - loss: 3.4862 - mae: 1.4016 - val_loss: 15.8329 - val_mae: 2.6300\n",
      "Epoch 92/100\n",
      "302/302 [==============================] - 1s 4ms/step - loss: 3.6400 - mae: 1.4006 - val_loss: 9.9011 - val_mae: 2.2026\n",
      "Epoch 93/100\n",
      "302/302 [==============================] - 1s 4ms/step - loss: 4.4779 - mae: 1.4824 - val_loss: 10.9317 - val_mae: 2.3843\n",
      "Epoch 94/100\n",
      "302/302 [==============================] - 1s 3ms/step - loss: 3.7805 - mae: 1.3670 - val_loss: 10.8397 - val_mae: 2.2230\n",
      "Epoch 95/100\n",
      "302/302 [==============================] - 1s 4ms/step - loss: 3.1832 - mae: 1.3692 - val_loss: 8.0498 - val_mae: 1.9965\n",
      "Epoch 96/100\n",
      "302/302 [==============================] - 1s 4ms/step - loss: 3.3409 - mae: 1.3366 - val_loss: 8.5101 - val_mae: 2.0228\n",
      "Epoch 97/100\n",
      "302/302 [==============================] - 1s 4ms/step - loss: 5.3598 - mae: 1.5535 - val_loss: 8.7573 - val_mae: 2.0404\n",
      "Epoch 98/100\n",
      "302/302 [==============================] - 1s 4ms/step - loss: 3.8397 - mae: 1.2845 - val_loss: 10.1023 - val_mae: 2.2252\n",
      "Epoch 99/100\n",
      "302/302 [==============================] - 1s 3ms/step - loss: 3.2133 - mae: 1.3351 - val_loss: 11.8049 - val_mae: 2.2975\n",
      "Epoch 100/100\n",
      "302/302 [==============================] - 1s 4ms/step - loss: 2.5524 - mae: 1.2309 - val_loss: 9.4010 - val_mae: 2.1130\n"
     ]
    }
   ],
   "source": [
    "hist = model.fit(x = train_data, y = train_targets, epochs = 100, \n",
    "                 batch_size = 1, validation_data = ( val_data, val_targets ), \n",
    "                 verbose = 1)"
   ]
  },
  {
   "cell_type": "code",
   "execution_count": 52,
   "id": "56764543",
   "metadata": {},
   "outputs": [
    {
     "data": {
      "text/plain": [
       "<matplotlib.legend.Legend at 0x2105e531f40>"
      ]
     },
     "execution_count": 52,
     "metadata": {},
     "output_type": "execute_result"
    },
    {
     "data": {
      "image/png": "[encoded data removed]",
      "text/plain": [
       "<Figure size 1152x576 with 2 Axes>"
      ]
     },
     "metadata": {
      "needs_background": "light"
     },
     "output_type": "display_data"
    }
   ],
   "source": [
    "# plotando os resultados obtidos\n",
    "fig, axes = plt.subplots(1, 2, squeeze = False, figsize = (16,8))\n",
    "\n",
    "history_dict = hist.history\n",
    "\n",
    "# loss - MSE\n",
    "train_loss_values = history_dict[\"loss\"]\n",
    "val_loss_values = history_dict[\"val_loss\"]\n",
    "\n",
    "# epochs\n",
    "epochs = range(1, len(train_loss_values) + 1)\n",
    "\n",
    "# metrica - MAE\n",
    "train_mae_values = history_dict[\"mae\"]\n",
    "val_mae_values = history_dict[\"val_mae\"]\n",
    "\n",
    "ax = axes.flat[0]\n",
    "ax.plot(epochs, train_loss_values, \"r\", label = \"Training MSE\")\n",
    "ax.plot(epochs, val_loss_values, \"b\", label = \"Validation MSE\")\n",
    "ax.set_title(\"Training and Validation MSE\")\n",
    "ax.set_xlabel(\"Epochs\")\n",
    "ax.set_ylabel(\"MSE\")\n",
    "ax.legend()\n",
    "\n",
    "ax = axes.flat[1]\n",
    "ax.plot(epochs, train_mae_values, \"r\", label = \"Training MAE\")\n",
    "ax.plot(epochs, val_mae_values, \"b\", label = \"Validation MAE\")\n",
    "ax.set_title(\"Training and Validation MAE\")\n",
    "ax.set_xlabel(\"Epochs\")\n",
    "ax.set_ylabel(\"MAE\")\n",
    "ax.legend()"
   ]
  },
  {
   "cell_type": "markdown",
   "id": "d15a07ea",
   "metadata": {},
   "source": [
    "## <span style='color:blue'>Questão 4: [Valor da Questão: 2.0][Taxa de acerto: x.x]</span>\n",
    "\n",
    "* Comente os resultados obtidos nos gráficos acima. Houve overfitting? Se sim, o que pode ser feito para melhorar a qualidade do modelo?"
   ]
  },
  {
   "cell_type": "markdown",
   "id": "f35f6b2e",
   "metadata": {},
   "source": [
    "## <span style='color:green'>Respostas da Questão 4:</span>\n",
    "\n",
    "* Sofreu, pois o erro de validation ta acima dos de treino"
   ]
  },
  {
   "cell_type": "markdown",
   "id": "d201551d",
   "metadata": {},
   "source": [
    "## <span style='color:blue'>Questão 5: [Valor da Questão: 2.0][Taxa de acerto: x.x]</span>\n",
    "\n",
    "* Modifique hiperparâmetros do modelo como o número de camadas, as funções de ativação, o número de épocas utilizadas e o tamanho dos lotes. Comente os resultados obtidos a partir das mudanças realizadas. Utilize várias células para dividir as etapas de construção dos modelos."
   ]
  },
  {
   "cell_type": "code",
   "execution_count": 53,
   "id": "b62038b4",
   "metadata": {},
   "outputs": [],
   "source": [
    "# IMPLEMENTE SEUS MODELOS AQUI --> QUESTÃO 5 (use várias células)"
   ]
  },
  {
   "cell_type": "code",
   "execution_count": 54,
   "id": "fb4e135b",
   "metadata": {},
   "outputs": [
    {
     "name": "stdout",
     "output_type": "stream",
     "text": [
      "Model: \"sequential_13\"\n",
      "_________________________________________________________________\n",
      " Layer (type)                Output Shape              Param #   \n",
      "=================================================================\n",
      " dense_49 (Dense)            (None, 32)                448       \n",
      "                                                                 \n",
      " dense_50 (Dense)            (None, 32)                1056      \n",
      "                                                                 \n",
      " dense_51 (Dense)            (None, 32)                1056      \n",
      "                                                                 \n",
      " dense_52 (Dense)            (None, 32)                1056      \n",
      "                                                                 \n",
      " dense_53 (Dense)            (None, 1)                 33        \n",
      "                                                                 \n",
      "=================================================================\n",
      "Total params: 3,649\n",
      "Trainable params: 3,649\n",
      "Non-trainable params: 0\n",
      "_________________________________________________________________\n"
     ]
    }
   ],
   "source": [
    "def build_model( n_inputs, n_outputs ): # cria um função para construir um modelo\n",
    "    '''construção do modelo de rede neural convolucional'''\n",
    "    \n",
    "    rede = Sequential() # iguala a rede a classe Sequential para a construção de modelos sequenciais\n",
    "    rede.add( Dense(units = 32, activation = \"elu\", input_shape = (n_inputs,))) # cria uma camada densa com 32 neuronios e com a função de aivação elu e com o vetor de entrada input\n",
    "    rede.add(Dense(units = 32, activation = \"elu\")) # cria uma camada densa com 32 neuronios e com a função de ativação elu\n",
    "    rede.add(Dense(units = 32, activation = \"elu\")) # cria uma camada densa com 32 neuronios e com a função de ativação elu\n",
    "    rede.add(Dense(units = 32, activation = \"elu\")) # cria uma camada densa com 32 neuronios e com a função de ativação elu\n",
    "    rede.add(Dense(units = n_outputs )) \n",
    "    return rede #retorna o modelo criado de acordo com os parametros dados\n",
    "\n",
    "model = build_model(13, 1) #cria o modelo\n",
    "model.summary() #apresenta uma tabela com um resumo do modelo"
   ]
  },
  {
   "cell_type": "code",
   "execution_count": 55,
   "id": "fc6c8e76",
   "metadata": {},
   "outputs": [
    {
     "name": "stdout",
     "output_type": "stream",
     "text": [
      "Model: \"sequential_14\"\n",
      "_________________________________________________________________\n",
      " Layer (type)                Output Shape              Param #   \n",
      "=================================================================\n",
      " dense_54 (Dense)            (None, 32)                448       \n",
      "                                                                 \n",
      " dense_55 (Dense)            (None, 32)                1056      \n",
      "                                                                 \n",
      " dense_56 (Dense)            (None, 32)                1056      \n",
      "                                                                 \n",
      " dense_57 (Dense)            (None, 32)                1056      \n",
      "                                                                 \n",
      " dense_58 (Dense)            (None, 1)                 33        \n",
      "                                                                 \n",
      "=================================================================\n",
      "Total params: 3,649\n",
      "Trainable params: 3,649\n",
      "Non-trainable params: 0\n",
      "_________________________________________________________________\n"
     ]
    }
   ],
   "source": [
    "model = build_model(13, 1)\n",
    "model.compile( optimizer = SGD(learning_rate = 0.0001, momentum = 0.0), loss = \"mse\", metrics = [\"mae\"] )\n",
    "model.summary()"
   ]
  },
  {
   "cell_type": "code",
   "execution_count": 56,
   "id": "070a44a0",
   "metadata": {},
   "outputs": [
    {
     "name": "stdout",
     "output_type": "stream",
     "text": [
      "Epoch 1/100\n",
      "302/302 [==============================] - 3s 5ms/step - loss: 224.4448 - mae: 11.0683 - val_loss: 33.7149 - val_mae: 4.0171\n",
      "Epoch 2/100\n",
      "302/302 [==============================] - 1s 4ms/step - loss: 33.6805 - mae: 3.9186 - val_loss: 21.9545 - val_mae: 3.4871\n",
      "Epoch 3/100\n",
      "302/302 [==============================] - 1s 4ms/step - loss: 24.3893 - mae: 3.4631 - val_loss: 16.9484 - val_mae: 2.8503\n",
      "Epoch 4/100\n",
      "302/302 [==============================] - 1s 4ms/step - loss: 21.9982 - mae: 3.3440 - val_loss: 17.7828 - val_mae: 3.0833\n",
      "Epoch 5/100\n",
      "302/302 [==============================] - 1s 4ms/step - loss: 20.0461 - mae: 3.2221 - val_loss: 14.5617 - val_mae: 2.7628\n",
      "Epoch 6/100\n",
      "302/302 [==============================] - 1s 4ms/step - loss: 18.4951 - mae: 3.0679 - val_loss: 12.4411 - val_mae: 2.4215\n",
      "Epoch 7/100\n",
      "302/302 [==============================] - 1s 4ms/step - loss: 16.8184 - mae: 2.9598 - val_loss: 11.7142 - val_mae: 2.5564\n",
      "Epoch 8/100\n",
      "302/302 [==============================] - 1s 3ms/step - loss: 15.5690 - mae: 2.8414 - val_loss: 10.1579 - val_mae: 2.2801\n",
      "Epoch 9/100\n",
      "302/302 [==============================] - 1s 3ms/step - loss: 14.3173 - mae: 2.7157 - val_loss: 13.0132 - val_mae: 2.7793\n",
      "Epoch 10/100\n",
      "302/302 [==============================] - 1s 4ms/step - loss: 13.2313 - mae: 2.6127 - val_loss: 11.0194 - val_mae: 2.4121\n",
      "Epoch 11/100\n",
      "302/302 [==============================] - 1s 4ms/step - loss: 13.0980 - mae: 2.5313 - val_loss: 10.4722 - val_mae: 2.4059\n",
      "Epoch 12/100\n",
      "302/302 [==============================] - 1s 3ms/step - loss: 12.5121 - mae: 2.4794 - val_loss: 10.0457 - val_mae: 2.3693\n",
      "Epoch 13/100\n",
      "302/302 [==============================] - 1s 3ms/step - loss: 11.6799 - mae: 2.4103 - val_loss: 9.7029 - val_mae: 2.4406\n",
      "Epoch 14/100\n",
      "302/302 [==============================] - 1s 3ms/step - loss: 11.3791 - mae: 2.3990 - val_loss: 11.7007 - val_mae: 2.6517\n",
      "Epoch 15/100\n",
      "302/302 [==============================] - 1s 3ms/step - loss: 9.9690 - mae: 2.3496 - val_loss: 8.4418 - val_mae: 2.1063\n",
      "Epoch 16/100\n",
      "302/302 [==============================] - 1s 3ms/step - loss: 10.8605 - mae: 2.3400 - val_loss: 10.4729 - val_mae: 2.4759\n",
      "Epoch 17/100\n",
      "302/302 [==============================] - 1s 3ms/step - loss: 10.2920 - mae: 2.3726 - val_loss: 8.3895 - val_mae: 2.2051\n",
      "Epoch 18/100\n",
      "302/302 [==============================] - 1s 4ms/step - loss: 10.2381 - mae: 2.3428 - val_loss: 9.1104 - val_mae: 2.2530\n",
      "Epoch 19/100\n",
      "302/302 [==============================] - 1s 4ms/step - loss: 10.0670 - mae: 2.2244 - val_loss: 8.2551 - val_mae: 2.1611s: 10.1854 - mae: 2.23\n",
      "Epoch 20/100\n",
      "302/302 [==============================] - 1s 4ms/step - loss: 9.4511 - mae: 2.2259 - val_loss: 10.2191 - val_mae: 2.4071\n",
      "Epoch 21/100\n",
      "302/302 [==============================] - 1s 3ms/step - loss: 9.0845 - mae: 2.2143 - val_loss: 10.7424 - val_mae: 2.4142\n",
      "Epoch 22/100\n",
      "302/302 [==============================] - 1s 3ms/step - loss: 8.8994 - mae: 2.1887 - val_loss: 9.4295 - val_mae: 2.3924\n",
      "Epoch 23/100\n",
      "302/302 [==============================] - 1s 3ms/step - loss: 8.6662 - mae: 2.1567 - val_loss: 10.2100 - val_mae: 2.2432\n",
      "Epoch 24/100\n",
      "302/302 [==============================] - 1s 3ms/step - loss: 8.6560 - mae: 2.1356 - val_loss: 9.4415 - val_mae: 2.2672\n",
      "Epoch 25/100\n",
      "302/302 [==============================] - 1s 3ms/step - loss: 8.9604 - mae: 2.1142 - val_loss: 11.7381 - val_mae: 2.3228\n",
      "Epoch 26/100\n",
      "302/302 [==============================] - 1s 3ms/step - loss: 8.5420 - mae: 2.1332 - val_loss: 10.4954 - val_mae: 2.4035\n",
      "Epoch 27/100\n",
      "302/302 [==============================] - 1s 3ms/step - loss: 8.6193 - mae: 2.1741 - val_loss: 12.9983 - val_mae: 2.5871\n",
      "Epoch 28/100\n",
      "302/302 [==============================] - 1s 3ms/step - loss: 8.4293 - mae: 2.1280 - val_loss: 14.2503 - val_mae: 2.6632\n",
      "Epoch 29/100\n",
      "302/302 [==============================] - 1s 4ms/step - loss: 7.6925 - mae: 2.0404 - val_loss: 8.8807 - val_mae: 2.2702\n",
      "Epoch 30/100\n",
      "302/302 [==============================] - 1s 4ms/step - loss: 7.9437 - mae: 2.0277 - val_loss: 18.8570 - val_mae: 2.9129\n",
      "Epoch 31/100\n",
      "302/302 [==============================] - 1s 4ms/step - loss: 8.7309 - mae: 2.2148 - val_loss: 11.0092 - val_mae: 2.3890\n",
      "Epoch 32/100\n",
      "302/302 [==============================] - 1s 4ms/step - loss: 7.8401 - mae: 2.0265 - val_loss: 10.7678 - val_mae: 2.3327\n",
      "Epoch 33/100\n",
      "302/302 [==============================] - 1s 4ms/step - loss: 7.4089 - mae: 2.0355 - val_loss: 10.9097 - val_mae: 2.4077\n",
      "Epoch 34/100\n",
      "302/302 [==============================] - 1s 4ms/step - loss: 7.3972 - mae: 1.9910 - val_loss: 14.4494 - val_mae: 2.6934\n",
      "Epoch 35/100\n",
      "302/302 [==============================] - 1s 4ms/step - loss: 7.4653 - mae: 2.0642 - val_loss: 11.5745 - val_mae: 2.4536\n",
      "Epoch 36/100\n",
      "302/302 [==============================] - 1s 4ms/step - loss: 7.4492 - mae: 1.9977 - val_loss: 12.4985 - val_mae: 2.5799\n",
      "Epoch 37/100\n",
      "302/302 [==============================] - 1s 4ms/step - loss: 7.5437 - mae: 2.0014 - val_loss: 10.4789 - val_mae: 2.2592\n",
      "Epoch 38/100\n",
      "302/302 [==============================] - 1s 4ms/step - loss: 7.0021 - mae: 1.9576 - val_loss: 18.2322 - val_mae: 2.7315\n",
      "Epoch 39/100\n",
      "302/302 [==============================] - 1s 4ms/step - loss: 7.3488 - mae: 2.0123 - val_loss: 9.5360 - val_mae: 2.2213\n",
      "Epoch 40/100\n",
      "302/302 [==============================] - 1s 4ms/step - loss: 6.6512 - mae: 1.9001 - val_loss: 17.2886 - val_mae: 2.8948\n",
      "Epoch 41/100\n",
      "302/302 [==============================] - 1s 4ms/step - loss: 6.9181 - mae: 1.9390 - val_loss: 10.8620 - val_mae: 2.2932\n",
      "Epoch 42/100\n",
      "302/302 [==============================] - 1s 4ms/step - loss: 6.9425 - mae: 1.9170 - val_loss: 12.6219 - val_mae: 2.4061\n",
      "Epoch 43/100\n",
      "302/302 [==============================] - 1s 4ms/step - loss: 7.1213 - mae: 1.9633 - val_loss: 10.8483 - val_mae: 2.3455\n",
      "Epoch 44/100\n",
      "302/302 [==============================] - 1s 4ms/step - loss: 6.6698 - mae: 1.9276 - val_loss: 11.8680 - val_mae: 2.3931\n",
      "Epoch 45/100\n",
      "302/302 [==============================] - 1s 4ms/step - loss: 6.7200 - mae: 1.9186 - val_loss: 13.1945 - val_mae: 2.4472\n",
      "Epoch 46/100\n",
      "302/302 [==============================] - 1s 3ms/step - loss: 6.6468 - mae: 1.9320 - val_loss: 12.7782 - val_mae: 2.3669\n",
      "Epoch 47/100\n",
      "302/302 [==============================] - 1s 4ms/step - loss: 6.3615 - mae: 1.9027 - val_loss: 10.6721 - val_mae: 2.3915\n",
      "Epoch 48/100\n",
      "302/302 [==============================] - 1s 4ms/step - loss: 6.8419 - mae: 1.9114 - val_loss: 9.8983 - val_mae: 2.2779\n",
      "Epoch 49/100\n",
      "302/302 [==============================] - 1s 4ms/step - loss: 6.2094 - mae: 1.8681 - val_loss: 11.0180 - val_mae: 2.2800\n",
      "Epoch 50/100\n",
      "302/302 [==============================] - 1s 4ms/step - loss: 6.0346 - mae: 1.8205 - val_loss: 16.8236 - val_mae: 2.5974\n",
      "Epoch 51/100\n",
      "302/302 [==============================] - 1s 3ms/step - loss: 6.3305 - mae: 1.8911 - val_loss: 11.5408 - val_mae: 2.3539\n",
      "Epoch 52/100\n",
      "302/302 [==============================] - 1s 4ms/step - loss: 5.6696 - mae: 1.7786 - val_loss: 17.7234 - val_mae: 2.6155\n",
      "Epoch 53/100\n",
      "302/302 [==============================] - 1s 4ms/step - loss: 6.5021 - mae: 1.9120 - val_loss: 11.4458 - val_mae: 2.3960\n",
      "Epoch 54/100\n",
      "302/302 [==============================] - 1s 3ms/step - loss: 6.0015 - mae: 1.7986 - val_loss: 12.8445 - val_mae: 2.4262\n",
      "Epoch 55/100\n",
      "302/302 [==============================] - 1s 4ms/step - loss: 6.1106 - mae: 1.9215 - val_loss: 11.6943 - val_mae: 2.4195\n",
      "Epoch 56/100\n",
      "302/302 [==============================] - 1s 4ms/step - loss: 6.2921 - mae: 1.8750 - val_loss: 11.0304 - val_mae: 2.2631\n",
      "Epoch 57/100\n",
      "302/302 [==============================] - 1s 3ms/step - loss: 5.7748 - mae: 1.8143 - val_loss: 12.6673 - val_mae: 2.3470\n",
      "Epoch 58/100\n",
      "302/302 [==============================] - 1s 3ms/step - loss: 5.5538 - mae: 1.7915 - val_loss: 12.0598 - val_mae: 2.3791\n",
      "Epoch 59/100\n",
      "302/302 [==============================] - 1s 4ms/step - loss: 6.0282 - mae: 1.8105 - val_loss: 12.7661 - val_mae: 2.3801\n",
      "Epoch 60/100\n",
      "302/302 [==============================] - 1s 4ms/step - loss: 5.7911 - mae: 1.7919 - val_loss: 11.5230 - val_mae: 2.2574\n",
      "Epoch 61/100\n"
     ]
    },
    {
     "name": "stdout",
     "output_type": "stream",
     "text": [
      "302/302 [==============================] - 1s 3ms/step - loss: 5.8665 - mae: 1.8346 - val_loss: 10.6343 - val_mae: 2.3097\n",
      "Epoch 62/100\n",
      "302/302 [==============================] - 1s 3ms/step - loss: 5.3718 - mae: 1.7991 - val_loss: 15.3157 - val_mae: 2.7177\n",
      "Epoch 63/100\n",
      "302/302 [==============================] - 1s 3ms/step - loss: 5.7041 - mae: 1.8758 - val_loss: 13.8147 - val_mae: 2.4750\n",
      "Epoch 64/100\n",
      "302/302 [==============================] - 1s 3ms/step - loss: 6.0037 - mae: 1.8292 - val_loss: 11.4889 - val_mae: 2.3134\n",
      "Epoch 65/100\n",
      "302/302 [==============================] - 1s 3ms/step - loss: 5.5608 - mae: 1.7620 - val_loss: 12.1115 - val_mae: 2.4020\n",
      "Epoch 66/100\n",
      "302/302 [==============================] - 1s 4ms/step - loss: 5.7780 - mae: 1.8134 - val_loss: 11.2188 - val_mae: 2.3475\n",
      "Epoch 67/100\n",
      "302/302 [==============================] - 1s 4ms/step - loss: 5.4200 - mae: 1.7563 - val_loss: 12.0224 - val_mae: 2.3398- loss: 5.6927 - mae: 1\n",
      "Epoch 68/100\n",
      "302/302 [==============================] - 1s 3ms/step - loss: 5.8457 - mae: 1.7969 - val_loss: 12.4180 - val_mae: 2.2791\n",
      "Epoch 69/100\n",
      "302/302 [==============================] - 1s 3ms/step - loss: 5.7065 - mae: 1.7574 - val_loss: 11.8776 - val_mae: 2.3354\n",
      "Epoch 70/100\n",
      "302/302 [==============================] - 1s 4ms/step - loss: 5.2170 - mae: 1.7135 - val_loss: 12.6035 - val_mae: 2.5212\n",
      "Epoch 71/100\n",
      "302/302 [==============================] - 1s 3ms/step - loss: 5.3078 - mae: 1.7533 - val_loss: 13.8301 - val_mae: 2.3531\n",
      "Epoch 72/100\n",
      "302/302 [==============================] - 1s 4ms/step - loss: 5.2274 - mae: 1.8035 - val_loss: 14.3308 - val_mae: 2.4695\n",
      "Epoch 73/100\n",
      "302/302 [==============================] - 1s 5ms/step - loss: 5.1162 - mae: 1.7277 - val_loss: 14.0070 - val_mae: 2.4529\n",
      "Epoch 74/100\n",
      "302/302 [==============================] - 1s 3ms/step - loss: 4.6805 - mae: 1.6837 - val_loss: 13.8561 - val_mae: 2.6762\n",
      "Epoch 75/100\n",
      "302/302 [==============================] - 1s 4ms/step - loss: 5.3274 - mae: 1.7310 - val_loss: 13.6505 - val_mae: 2.3872\n",
      "Epoch 76/100\n",
      "302/302 [==============================] - 1s 4ms/step - loss: 5.4507 - mae: 1.7540 - val_loss: 11.5123 - val_mae: 2.2382\n",
      "Epoch 77/100\n",
      "302/302 [==============================] - 1s 4ms/step - loss: 5.1679 - mae: 1.7608 - val_loss: 11.7833 - val_mae: 2.2909\n",
      "Epoch 78/100\n",
      "302/302 [==============================] - 1s 4ms/step - loss: 5.3765 - mae: 1.7434 - val_loss: 11.5739 - val_mae: 2.3113\n",
      "Epoch 79/100\n",
      "302/302 [==============================] - 1s 3ms/step - loss: 4.8758 - mae: 1.7217 - val_loss: 13.9443 - val_mae: 2.4703\n",
      "Epoch 80/100\n",
      "302/302 [==============================] - 1s 4ms/step - loss: 5.2476 - mae: 1.7215 - val_loss: 15.2144 - val_mae: 2.5729\n",
      "Epoch 81/100\n",
      "302/302 [==============================] - 1s 4ms/step - loss: 4.8622 - mae: 1.6956 - val_loss: 14.0266 - val_mae: 2.4576\n",
      "Epoch 82/100\n",
      "302/302 [==============================] - 1s 4ms/step - loss: 4.9988 - mae: 1.7231 - val_loss: 13.1608 - val_mae: 2.4155\n",
      "Epoch 83/100\n",
      "302/302 [==============================] - 1s 4ms/step - loss: 4.9072 - mae: 1.7042 - val_loss: 14.4099 - val_mae: 2.3944\n",
      "Epoch 84/100\n",
      "302/302 [==============================] - 1s 4ms/step - loss: 4.8274 - mae: 1.6451 - val_loss: 12.2357 - val_mae: 2.2607\n",
      "Epoch 85/100\n",
      "302/302 [==============================] - 1s 4ms/step - loss: 4.7498 - mae: 1.6470 - val_loss: 11.8970 - val_mae: 2.3483\n",
      "Epoch 86/100\n",
      "302/302 [==============================] - 1s 3ms/step - loss: 4.6929 - mae: 1.6653 - val_loss: 14.9249 - val_mae: 2.4040\n",
      "Epoch 87/100\n",
      "302/302 [==============================] - 1s 3ms/step - loss: 4.8622 - mae: 1.6651 - val_loss: 11.4860 - val_mae: 2.1999\n",
      "Epoch 88/100\n",
      "302/302 [==============================] - 1s 4ms/step - loss: 4.6826 - mae: 1.5979 - val_loss: 13.4518 - val_mae: 2.3122\n",
      "Epoch 89/100\n",
      "302/302 [==============================] - 1s 3ms/step - loss: 4.9584 - mae: 1.7115 - val_loss: 14.2858 - val_mae: 2.4786\n",
      "Epoch 90/100\n",
      "302/302 [==============================] - 1s 4ms/step - loss: 4.4573 - mae: 1.6529 - val_loss: 13.3137 - val_mae: 2.3307\n",
      "Epoch 91/100\n",
      "302/302 [==============================] - 1s 3ms/step - loss: 4.6651 - mae: 1.6125 - val_loss: 20.4249 - val_mae: 3.1035\n",
      "Epoch 92/100\n",
      "302/302 [==============================] - 1s 4ms/step - loss: 4.8534 - mae: 1.6751 - val_loss: 13.2701 - val_mae: 2.4429\n",
      "Epoch 93/100\n",
      "302/302 [==============================] - 1s 4ms/step - loss: 4.6376 - mae: 1.6360 - val_loss: 14.2823 - val_mae: 2.4325\n",
      "Epoch 94/100\n",
      "302/302 [==============================] - 1s 3ms/step - loss: 4.7367 - mae: 1.6268 - val_loss: 12.9541 - val_mae: 2.4260\n",
      "Epoch 95/100\n",
      "302/302 [==============================] - 1s 4ms/step - loss: 4.4599 - mae: 1.5984 - val_loss: 16.0346 - val_mae: 2.4549\n",
      "Epoch 96/100\n",
      "302/302 [==============================] - 1s 4ms/step - loss: 4.5909 - mae: 1.6449 - val_loss: 15.4256 - val_mae: 2.4560\n",
      "Epoch 97/100\n",
      "302/302 [==============================] - 1s 4ms/step - loss: 4.7358 - mae: 1.5893 - val_loss: 14.1962 - val_mae: 2.3452\n",
      "Epoch 98/100\n",
      "302/302 [==============================] - 1s 4ms/step - loss: 4.4843 - mae: 1.6072 - val_loss: 12.9846 - val_mae: 2.3803\n",
      "Epoch 99/100\n",
      "302/302 [==============================] - 1s 4ms/step - loss: 4.3666 - mae: 1.5869 - val_loss: 21.2289 - val_mae: 2.7786\n",
      "Epoch 100/100\n",
      "302/302 [==============================] - 1s 4ms/step - loss: 5.0351 - mae: 1.6760 - val_loss: 14.3727 - val_mae: 2.4922\n"
     ]
    }
   ],
   "source": [
    "hist = model.fit(x = train_data, y = train_targets, epochs = 100, \n",
    "                 batch_size = 1, validation_data = ( val_data, val_targets ), \n",
    "                 verbose = 1)"
   ]
  },
  {
   "cell_type": "code",
   "execution_count": 57,
   "id": "6d4435bd",
   "metadata": {},
   "outputs": [
    {
     "data": {
      "text/plain": [
       "<matplotlib.legend.Legend at 0x2105e9003d0>"
      ]
     },
     "execution_count": 57,
     "metadata": {},
     "output_type": "execute_result"
    },
    {
     "data": {
      "image/png": "[encoded data removed]",
      "text/plain": [
       "<Figure size 1152x576 with 2 Axes>"
      ]
     },
     "metadata": {
      "needs_background": "light"
     },
     "output_type": "display_data"
    }
   ],
   "source": [
    "# plotando os resultados obtidos\n",
    "fig, axes = plt.subplots(1, 2, squeeze = False, figsize = (16,8))\n",
    "\n",
    "history_dict = hist.history\n",
    "\n",
    "# loss - MSE\n",
    "train_loss_values = history_dict[\"loss\"]\n",
    "val_loss_values = history_dict[\"val_loss\"]\n",
    "\n",
    "# epochs\n",
    "epochs = range(1, len(train_loss_values) + 1)\n",
    "\n",
    "# metrica - MAE\n",
    "train_mae_values = history_dict[\"mae\"]\n",
    "val_mae_values = history_dict[\"val_mae\"]\n",
    "\n",
    "ax = axes.flat[0]\n",
    "ax.plot(epochs, train_loss_values, \"r\", label = \"Training MSE\")\n",
    "ax.plot(epochs, val_loss_values, \"b\", label = \"Validation MSE\")\n",
    "ax.set_title(\"Training and Validation MSE\")\n",
    "ax.set_xlabel(\"Epochs\")\n",
    "ax.set_ylabel(\"MSE\")\n",
    "ax.legend()\n",
    "\n",
    "ax = axes.flat[1]\n",
    "ax.plot(epochs, train_mae_values, \"r\", label = \"Training MAE\")\n",
    "ax.plot(epochs, val_mae_values, \"b\", label = \"Validation MAE\")\n",
    "ax.set_title(\"Training and Validation MAE\")\n",
    "ax.set_xlabel(\"Epochs\")\n",
    "ax.set_ylabel(\"MAE\")\n",
    "ax.legend()"
   ]
  },
  {
   "cell_type": "markdown",
   "id": "5b18b32c",
   "metadata": {},
   "source": [
    "## <span style='color:green'>Respostas da Questão 5:</span>\n",
    "\n",
    "* Mudando as funções de ativação para elu, diminuindo o numero de neuronios e analisando os grafico, foi possivel verificar que a rede não sofreu overfitting."
   ]
  },
  {
   "cell_type": "markdown",
   "id": "8d0a7e7e",
   "metadata": {},
   "source": [
    "### Teste do modelo\n",
    "\n",
    "O teste do modelo pode ser realizado a partir da função **evaluate**, que recebe os dados de treino e retorna o valor de loss calculado para esse conjunto e os valores de cada métrica da lista fornecida durante a compilação do modelo. \n",
    "\n",
    "* É uma prática comum realizar ajustes no modelo com base no conjunto de validação e só utilizar o conjunto de testes após a definição dos hiperparâmetros definitivos.\n",
    "* Como os hiperparâmetros são ajustados a partir dos resultados obtidos para o conjunto de validação, o modelo pode acabar. sobreajustando aos dados de validação, então é interessante mudar os dados desse conjunto com frequência.\n",
    "* Para mudar os dados de validação basta alterar a semente na função train_test_split.\n",
    "* Crie um novo modelo do zero após a realização de mudanças nos conjuntos de treino/validação."
   ]
  },
  {
   "cell_type": "code",
   "execution_count": 58,
   "id": "de924836",
   "metadata": {},
   "outputs": [
    {
     "name": "stdout",
     "output_type": "stream",
     "text": [
      "4/4 [==============================] - 0s 6ms/step - loss: 22.9634 - mae: 2.8784\n",
      "Erro médio absoluto de teste: $2878.40\n"
     ]
    }
   ],
   "source": [
    "test_mse, test_mae = model.evaluate( test_data, test_targets)\n",
    "\n",
    "# observa-se que os dados de saída são normalizados em milhares de dólares, \n",
    "# então é necessário multiplicar por 1000 para obter os valores absolutos\n",
    "print(\"Erro médio absoluto de teste: ${:.2f}\".format(1000*test_mae))"
   ]
  },
  {
   "cell_type": "markdown",
   "id": "e28da1d1",
   "metadata": {},
   "source": [
    "## <span style='color:blue'>Questão 6: [Valor da Questão: 1.0][Taxa de acerto: x.x]</span>\n",
    "\n",
    "* Verifique novamente a faixa de valores dos gabaritos no banco de dados. Considerando a extensão dessa faixa de valores, pode-se dizer que as predições do modelo são significativas?"
   ]
  },
  {
   "cell_type": "markdown",
   "id": "525b6806",
   "metadata": {},
   "source": [
    "## <span style='color:green'>Resposta da Questão 6:</span>\n",
    "\n",
    "* tendo o erro de 2878.40 , e sabendo que os valores vairam de 5000 a 50000, pode-se dizer que o erros terão mais impactos em valores menores pois eles serão quase 60% do valor real. Já em vaalores maiores o erra não comprometera tanto pois serão cerca de 6% do valor real. "
   ]
  },
  {
   "cell_type": "markdown",
   "id": "ebe8646d",
   "metadata": {},
   "source": [
    "### Referências\n",
    "* Chollet, Francois. Deep learning with Python. Simon and Schuster, 2017."
   ]
  },
  {
   "cell_type": "markdown",
   "id": "464d87de",
   "metadata": {},
   "source": [
    "![gif3](https://user-images.githubusercontent.com/58775072/142712798-3c5ce76c-8d6f-4345-8d65-2be3f7aa2ae9.gif)"
   ]
  }
 ],
 "metadata": {
  "kernelspec": {
   "display_name": "Python 3 (ipykernel)",
   "language": "python",
   "name": "python3"
  },
  "language_info": {
   "codemirror_mode": {
    "name": "ipython",
    "version": 3
   },
   "file_extension": ".py",
   "mimetype": "text/x-python",
   "name": "python",
   "nbconvert_exporter": "python",
   "pygments_lexer": "ipython3",
   "version": "3.8.10"
  }
 },
 "nbformat": 4,
 "nbformat_minor": 5
}
